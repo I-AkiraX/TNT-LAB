{
 "cells": [
  {
   "cell_type": "code",
   "execution_count": 1,
   "id": "a2d497e8",
   "metadata": {},
   "outputs": [],
   "source": [
    "import pandas as pd\n",
    "import numpy as np\n",
    "import matplotlib.pyplot as plt\n",
    "from sklearn.model_selection import train_test_split\n",
    "from sklearn import preprocessing\n",
    "import seaborn as sns\n",
    "\n",
    "from sklearn.linear_model import LogisticRegression\n",
    "from sklearn.neighbors import KNeighborsClassifier\n",
    "from sklearn.tree import DecisionTreeClassifier\n",
    "from sklearn.naive_bayes import GaussianNB\n",
    "from sklearn.svm import SVC\n",
    "from sklearn.ensemble import GradientBoostingClassifier\n",
    "from sklearn.ensemble import AdaBoostClassifier\n",
    "from sklearn.ensemble import RandomForestClassifier\n",
    "\n",
    "from sklearn.metrics import confusion_matrix\n",
    "from sklearn.metrics import accuracy_score\n",
    "from sklearn.metrics import recall_score\n",
    "from sklearn.metrics import precision_score\n",
    "from sklearn.metrics import f1_score"
   ]
  },
  {
   "cell_type": "code",
   "execution_count": 2,
   "id": "62f82f92",
   "metadata": {},
   "outputs": [],
   "source": [
    "import warnings\n",
    "warnings.filterwarnings('ignore')"
   ]
  },
  {
   "cell_type": "code",
   "execution_count": 3,
   "id": "f76eb487",
   "metadata": {},
   "outputs": [],
   "source": [
    "df = pd.read_csv('Social_Network_Ads.csv')"
   ]
  },
  {
   "cell_type": "code",
   "execution_count": 4,
   "id": "9a85316a",
   "metadata": {},
   "outputs": [
    {
     "data": {
      "text/html": [
       "<div>\n",
       "<style scoped>\n",
       "    .dataframe tbody tr th:only-of-type {\n",
       "        vertical-align: middle;\n",
       "    }\n",
       "\n",
       "    .dataframe tbody tr th {\n",
       "        vertical-align: top;\n",
       "    }\n",
       "\n",
       "    .dataframe thead th {\n",
       "        text-align: right;\n",
       "    }\n",
       "</style>\n",
       "<table border=\"1\" class=\"dataframe\">\n",
       "  <thead>\n",
       "    <tr style=\"text-align: right;\">\n",
       "      <th></th>\n",
       "      <th>Age</th>\n",
       "      <th>EstimatedSalary</th>\n",
       "      <th>Purchased</th>\n",
       "    </tr>\n",
       "  </thead>\n",
       "  <tbody>\n",
       "    <tr>\n",
       "      <th>0</th>\n",
       "      <td>19</td>\n",
       "      <td>19000</td>\n",
       "      <td>0</td>\n",
       "    </tr>\n",
       "    <tr>\n",
       "      <th>1</th>\n",
       "      <td>35</td>\n",
       "      <td>20000</td>\n",
       "      <td>0</td>\n",
       "    </tr>\n",
       "    <tr>\n",
       "      <th>2</th>\n",
       "      <td>26</td>\n",
       "      <td>43000</td>\n",
       "      <td>0</td>\n",
       "    </tr>\n",
       "    <tr>\n",
       "      <th>3</th>\n",
       "      <td>27</td>\n",
       "      <td>57000</td>\n",
       "      <td>0</td>\n",
       "    </tr>\n",
       "    <tr>\n",
       "      <th>4</th>\n",
       "      <td>19</td>\n",
       "      <td>76000</td>\n",
       "      <td>0</td>\n",
       "    </tr>\n",
       "  </tbody>\n",
       "</table>\n",
       "</div>"
      ],
      "text/plain": [
       "   Age  EstimatedSalary  Purchased\n",
       "0   19            19000          0\n",
       "1   35            20000          0\n",
       "2   26            43000          0\n",
       "3   27            57000          0\n",
       "4   19            76000          0"
      ]
     },
     "execution_count": 4,
     "metadata": {},
     "output_type": "execute_result"
    }
   ],
   "source": [
    "df.head()"
   ]
  },
  {
   "cell_type": "code",
   "execution_count": 5,
   "id": "08dff610",
   "metadata": {},
   "outputs": [
    {
     "name": "stdout",
     "output_type": "stream",
     "text": [
      "<class 'pandas.core.frame.DataFrame'>\n",
      "RangeIndex: 400 entries, 0 to 399\n",
      "Data columns (total 3 columns):\n",
      " #   Column           Non-Null Count  Dtype\n",
      "---  ------           --------------  -----\n",
      " 0   Age              400 non-null    int64\n",
      " 1   EstimatedSalary  400 non-null    int64\n",
      " 2   Purchased        400 non-null    int64\n",
      "dtypes: int64(3)\n",
      "memory usage: 9.5 KB\n"
     ]
    }
   ],
   "source": [
    "df.info()"
   ]
  },
  {
   "cell_type": "code",
   "execution_count": 6,
   "id": "c052f6ca",
   "metadata": {},
   "outputs": [
    {
     "data": {
      "text/html": [
       "<style type=\"text/css\">\n",
       "#T_29f6f_row0_col0, #T_29f6f_row1_col1, #T_29f6f_row2_col2 {\n",
       "  background-color: #b40426;\n",
       "  color: #f1f1f1;\n",
       "}\n",
       "#T_29f6f_row0_col1, #T_29f6f_row1_col0, #T_29f6f_row1_col2 {\n",
       "  background-color: #3b4cc0;\n",
       "  color: #f1f1f1;\n",
       "}\n",
       "#T_29f6f_row0_col2 {\n",
       "  background-color: #c3d5f4;\n",
       "  color: #000000;\n",
       "}\n",
       "#T_29f6f_row2_col0 {\n",
       "  background-color: #ead5c9;\n",
       "  color: #000000;\n",
       "}\n",
       "#T_29f6f_row2_col1 {\n",
       "  background-color: #8badfd;\n",
       "  color: #000000;\n",
       "}\n",
       "</style>\n",
       "<table id=\"T_29f6f_\">\n",
       "  <thead>\n",
       "    <tr>\n",
       "      <th class=\"blank level0\" >&nbsp;</th>\n",
       "      <th class=\"col_heading level0 col0\" >Age</th>\n",
       "      <th class=\"col_heading level0 col1\" >EstimatedSalary</th>\n",
       "      <th class=\"col_heading level0 col2\" >Purchased</th>\n",
       "    </tr>\n",
       "  </thead>\n",
       "  <tbody>\n",
       "    <tr>\n",
       "      <th id=\"T_29f6f_level0_row0\" class=\"row_heading level0 row0\" >Age</th>\n",
       "      <td id=\"T_29f6f_row0_col0\" class=\"data row0 col0\" >1.000000</td>\n",
       "      <td id=\"T_29f6f_row0_col1\" class=\"data row0 col1\" >0.155238</td>\n",
       "      <td id=\"T_29f6f_row0_col2\" class=\"data row0 col2\" >0.622454</td>\n",
       "    </tr>\n",
       "    <tr>\n",
       "      <th id=\"T_29f6f_level0_row1\" class=\"row_heading level0 row1\" >EstimatedSalary</th>\n",
       "      <td id=\"T_29f6f_row1_col0\" class=\"data row1 col0\" >0.155238</td>\n",
       "      <td id=\"T_29f6f_row1_col1\" class=\"data row1 col1\" >1.000000</td>\n",
       "      <td id=\"T_29f6f_row1_col2\" class=\"data row1 col2\" >0.362083</td>\n",
       "    </tr>\n",
       "    <tr>\n",
       "      <th id=\"T_29f6f_level0_row2\" class=\"row_heading level0 row2\" >Purchased</th>\n",
       "      <td id=\"T_29f6f_row2_col0\" class=\"data row2 col0\" >0.622454</td>\n",
       "      <td id=\"T_29f6f_row2_col1\" class=\"data row2 col1\" >0.362083</td>\n",
       "      <td id=\"T_29f6f_row2_col2\" class=\"data row2 col2\" >1.000000</td>\n",
       "    </tr>\n",
       "  </tbody>\n",
       "</table>\n"
      ],
      "text/plain": [
       "<pandas.io.formats.style.Styler at 0x24c4db7d408>"
      ]
     },
     "execution_count": 6,
     "metadata": {},
     "output_type": "execute_result"
    }
   ],
   "source": [
    "corr = df.corr()\n",
    "corr.style.background_gradient(cmap='coolwarm')"
   ]
  },
  {
   "cell_type": "code",
   "execution_count": 7,
   "id": "01240f10",
   "metadata": {},
   "outputs": [
    {
     "data": {
      "text/plain": [
       "((320, 2), (320,), (80, 2), (80,))"
      ]
     },
     "execution_count": 7,
     "metadata": {},
     "output_type": "execute_result"
    }
   ],
   "source": [
    "x_train, x_test, y_train, y_test = train_test_split(df.drop(columns = ['Purchased']), df['Purchased'], test_size = 0.2)\n",
    "x_train.shape, y_train.shape, x_test.shape, y_test.shape"
   ]
  },
  {
   "cell_type": "code",
   "execution_count": 8,
   "id": "9b398e6d",
   "metadata": {},
   "outputs": [],
   "source": [
    "algos = []\n",
    "accuracy = []\n",
    "recall = []\n",
    "precision = []\n",
    "f1Score = []\n",
    "specificity = []"
   ]
  },
  {
   "cell_type": "code",
   "execution_count": 9,
   "id": "0b542205",
   "metadata": {},
   "outputs": [
    {
     "name": "stdout",
     "output_type": "stream",
     "text": [
      "Logistic Regression\n",
      "[[45  0]\n",
      " [35  0]] \n",
      "\n",
      "\n",
      "Accuracy: 56.25\n",
      "Recall: 0.0\n",
      "Precision: 0.0\n",
      "F score: 0.0\n",
      "Specificity: 1.0\n"
     ]
    }
   ],
   "source": [
    "algo = \"Logistic Regression\"\n",
    "model = LogisticRegression()\n",
    "model.fit(x_train, y_train)\n",
    "y_pred = model.predict(x_test)\n",
    "print(algo)\n",
    "print(confusion_matrix(y_test, y_pred), '\\n\\n')\n",
    "acc = accuracy_score(y_test, y_pred) * 100\n",
    "print('Accuracy:', acc)\n",
    "rec = recall_score(y_test, y_pred) * 100\n",
    "print('Recall:', rec)\n",
    "pre = precision_score(y_test, y_pred) * 100\n",
    "print('Precision:', pre)\n",
    "f1s = f1_score(y_test, y_pred) * 100\n",
    "print('F score:', f1s)\n",
    "tn, fp, fn, tp = confusion_matrix(y_test, y_pred).ravel()\n",
    "spc = tn / (tn+fp)\n",
    "print('Specificity:', spc)\n",
    "\n",
    "algos.append(algo)\n",
    "accuracy.append(acc)\n",
    "recall.append(rec)\n",
    "precision.append(pre)\n",
    "f1Score.append(f1s)\n",
    "specificity.append(spc)"
   ]
  },
  {
   "cell_type": "code",
   "execution_count": 10,
   "id": "1a7449cc",
   "metadata": {},
   "outputs": [
    {
     "name": "stdout",
     "output_type": "stream",
     "text": [
      "K Nearest Neighbour\n",
      "[[37  8]\n",
      " [13 22]] \n",
      "\n",
      "\n",
      "Accuracy: 73.75\n",
      "Recall: 62.857142857142854\n",
      "Precision: 73.33333333333333\n",
      "F score: 67.69230769230768\n",
      "Specificity: 0.8222222222222222\n"
     ]
    }
   ],
   "source": [
    "algo = \"K Nearest Neighbour\"\n",
    "model = KNeighborsClassifier()\n",
    "model.fit(x_train, y_train)\n",
    "y_pred = model.predict(x_test)\n",
    "print(algo)\n",
    "print(confusion_matrix(y_test, y_pred), '\\n\\n')\n",
    "acc = accuracy_score(y_test, y_pred) * 100\n",
    "print('Accuracy:', acc)\n",
    "rec = recall_score(y_test, y_pred) * 100\n",
    "print('Recall:', rec)\n",
    "pre = precision_score(y_test, y_pred) * 100\n",
    "print('Precision:', pre)\n",
    "f1s = f1_score(y_test, y_pred) * 100\n",
    "print('F score:', f1s)\n",
    "tn, fp, fn, tp = confusion_matrix(y_test, y_pred).ravel()\n",
    "spc = tn / (tn+fp)\n",
    "print('Specificity:', spc)\n",
    "\n",
    "algos.append(algo)\n",
    "accuracy.append(acc)\n",
    "recall.append(rec)\n",
    "precision.append(pre)\n",
    "f1Score.append(f1s)\n",
    "specificity.append(spc)"
   ]
  },
  {
   "cell_type": "code",
   "execution_count": 11,
   "id": "0ea4e9c1",
   "metadata": {},
   "outputs": [
    {
     "name": "stdout",
     "output_type": "stream",
     "text": [
      "Decision Tree\n",
      "[[41  4]\n",
      " [ 8 27]] \n",
      "\n",
      "\n",
      "Accuracy: 85.0\n",
      "Recall: 77.14285714285715\n",
      "Precision: 87.09677419354838\n",
      "F score: 81.81818181818183\n",
      "Specificity: 0.9111111111111111\n"
     ]
    }
   ],
   "source": [
    "algo = \"Decision Tree\"\n",
    "model = DecisionTreeClassifier()\n",
    "model.fit(x_train, y_train)\n",
    "y_pred = model.predict(x_test)\n",
    "print(algo)\n",
    "print(confusion_matrix(y_test, y_pred), '\\n\\n')\n",
    "acc = accuracy_score(y_test, y_pred) * 100\n",
    "print('Accuracy:', acc)\n",
    "rec = recall_score(y_test, y_pred) * 100\n",
    "print('Recall:', rec)\n",
    "pre = precision_score(y_test, y_pred) * 100\n",
    "print('Precision:', pre)\n",
    "f1s = f1_score(y_test, y_pred) * 100\n",
    "print('F score:', f1s)\n",
    "tn, fp, fn, tp = confusion_matrix(y_test, y_pred).ravel()\n",
    "spc = tn / (tn+fp)\n",
    "print('Specificity:', spc)\n",
    "\n",
    "algos.append(algo)\n",
    "accuracy.append(acc)\n",
    "recall.append(rec)\n",
    "precision.append(pre)\n",
    "f1Score.append(f1s)\n",
    "specificity.append(spc)"
   ]
  },
  {
   "cell_type": "code",
   "execution_count": 12,
   "id": "529d1fdc",
   "metadata": {},
   "outputs": [
    {
     "name": "stdout",
     "output_type": "stream",
     "text": [
      "Naive Bayes\n",
      "[[42  3]\n",
      " [13 22]] \n",
      "\n",
      "\n",
      "Accuracy: 80.0\n",
      "Recall: 62.857142857142854\n",
      "Precision: 88.0\n",
      "F score: 73.33333333333334\n",
      "Specificity: 0.9333333333333333\n"
     ]
    }
   ],
   "source": [
    "algo = \"Naive Bayes\"\n",
    "model = GaussianNB()\n",
    "model.fit(x_train, y_train)\n",
    "y_pred = model.predict(x_test)\n",
    "print(algo)\n",
    "print(confusion_matrix(y_test, y_pred), '\\n\\n')\n",
    "acc = accuracy_score(y_test, y_pred) * 100\n",
    "print('Accuracy:', acc)\n",
    "rec = recall_score(y_test, y_pred) * 100\n",
    "print('Recall:', rec)\n",
    "pre = precision_score(y_test, y_pred) * 100\n",
    "print('Precision:', pre)\n",
    "f1s = f1_score(y_test, y_pred) * 100\n",
    "print('F score:', f1s)\n",
    "tn, fp, fn, tp = confusion_matrix(y_test, y_pred).ravel()\n",
    "spc = tn / (tn+fp)\n",
    "print('Specificity:', spc)\n",
    "\n",
    "algos.append(algo)\n",
    "accuracy.append(acc)\n",
    "recall.append(rec)\n",
    "precision.append(pre)\n",
    "f1Score.append(f1s)\n",
    "specificity.append(spc)"
   ]
  },
  {
   "cell_type": "code",
   "execution_count": 13,
   "id": "8db939c8",
   "metadata": {},
   "outputs": [
    {
     "name": "stdout",
     "output_type": "stream",
     "text": [
      "SVM\n",
      "[[43  2]\n",
      " [22 13]] \n",
      "\n",
      "\n",
      "Accuracy: 70.0\n",
      "Recall: 37.142857142857146\n",
      "Precision: 86.66666666666667\n",
      "F score: 52.0\n",
      "Specificity: 0.9555555555555556\n"
     ]
    }
   ],
   "source": [
    "algo = \"SVM\"\n",
    "model = SVC(kernel='rbf')\n",
    "model.fit(x_train, y_train)\n",
    "y_pred = model.predict(x_test)\n",
    "print(algo)\n",
    "print(confusion_matrix(y_test, y_pred), '\\n\\n')\n",
    "acc = accuracy_score(y_test, y_pred) * 100\n",
    "print('Accuracy:', acc)\n",
    "rec = recall_score(y_test, y_pred) * 100\n",
    "print('Recall:', rec)\n",
    "pre = precision_score(y_test, y_pred) * 100\n",
    "print('Precision:', pre)\n",
    "f1s = f1_score(y_test, y_pred) * 100\n",
    "print('F score:', f1s)\n",
    "tn, fp, fn, tp = confusion_matrix(y_test, y_pred).ravel()\n",
    "spc = tn / (tn+fp)\n",
    "print('Specificity:', spc)\n",
    "\n",
    "algos.append(algo)\n",
    "accuracy.append(acc)\n",
    "recall.append(rec)\n",
    "precision.append(pre)\n",
    "f1Score.append(f1s)\n",
    "specificity.append(spc)"
   ]
  },
  {
   "cell_type": "code",
   "execution_count": 14,
   "id": "f881d388",
   "metadata": {},
   "outputs": [
    {
     "name": "stdout",
     "output_type": "stream",
     "text": [
      "Adaboost\n",
      "[[40  5]\n",
      " [ 9 26]] \n",
      "\n",
      "\n",
      "Accuracy: 82.5\n",
      "Recall: 74.28571428571429\n",
      "Precision: 83.87096774193549\n",
      "F score: 78.7878787878788\n",
      "Specificity: 0.8888888888888888\n"
     ]
    }
   ],
   "source": [
    "algo = \"Adaboost\"\n",
    "model = AdaBoostClassifier()\n",
    "model.fit(x_train, y_train)\n",
    "y_pred = model.predict(x_test)\n",
    "print(algo)\n",
    "print(confusion_matrix(y_test, y_pred), '\\n\\n')\n",
    "acc = accuracy_score(y_test, y_pred) * 100\n",
    "print('Accuracy:', acc)\n",
    "rec = recall_score(y_test, y_pred) * 100\n",
    "print('Recall:', rec)\n",
    "pre = precision_score(y_test, y_pred) * 100\n",
    "print('Precision:', pre)\n",
    "f1s = f1_score(y_test, y_pred) * 100\n",
    "print('F score:', f1s)\n",
    "tn, fp, fn, tp = confusion_matrix(y_test, y_pred).ravel()\n",
    "spc = tn / (tn+fp)\n",
    "print('Specificity:', spc)\n",
    "\n",
    "algos.append(algo)\n",
    "accuracy.append(acc)\n",
    "recall.append(rec)\n",
    "precision.append(pre)\n",
    "f1Score.append(f1s)\n",
    "specificity.append(spc)"
   ]
  },
  {
   "cell_type": "code",
   "execution_count": 15,
   "id": "49243746",
   "metadata": {},
   "outputs": [
    {
     "name": "stdout",
     "output_type": "stream",
     "text": [
      "GradientBoost\n",
      "[[40  5]\n",
      " [ 7 28]] \n",
      "\n",
      "\n",
      "Accuracy: 85.0\n",
      "Recall: 80.0\n",
      "Precision: 84.84848484848484\n",
      "F score: 82.3529411764706\n",
      "Specificity: 0.8888888888888888\n"
     ]
    }
   ],
   "source": [
    "algo = \"GradientBoost\"\n",
    "model = GradientBoostingClassifier()\n",
    "model.fit(x_train, y_train)\n",
    "y_pred = model.predict(x_test)\n",
    "print(algo)\n",
    "print(confusion_matrix(y_test, y_pred), '\\n\\n')\n",
    "acc = accuracy_score(y_test, y_pred) * 100\n",
    "print('Accuracy:', acc)\n",
    "rec = recall_score(y_test, y_pred) * 100\n",
    "print('Recall:', rec)\n",
    "pre = precision_score(y_test, y_pred) * 100\n",
    "print('Precision:', pre)\n",
    "f1s = f1_score(y_test, y_pred) * 100\n",
    "print('F score:', f1s)\n",
    "tn, fp, fn, tp = confusion_matrix(y_test, y_pred).ravel()\n",
    "spc = tn / (tn+fp)\n",
    "print('Specificity:', spc)\n",
    "\n",
    "algos.append(algo)\n",
    "accuracy.append(acc)\n",
    "recall.append(rec)\n",
    "precision.append(pre)\n",
    "f1Score.append(f1s)\n",
    "specificity.append(spc)"
   ]
  },
  {
   "cell_type": "code",
   "execution_count": 16,
   "id": "a68dcb85",
   "metadata": {},
   "outputs": [
    {
     "name": "stdout",
     "output_type": "stream",
     "text": [
      "Random forest\n",
      "[[40  5]\n",
      " [ 6 29]] \n",
      "\n",
      "\n",
      "Accuracy: 86.25\n",
      "Recall: 82.85714285714286\n",
      "Precision: 85.29411764705883\n",
      "F score: 84.05797101449276\n",
      "Specificity: 0.8888888888888888\n"
     ]
    }
   ],
   "source": [
    "algo = \"Random forest\"\n",
    "model = RandomForestClassifier()\n",
    "model.fit(x_train, y_train)\n",
    "y_pred = model.predict(x_test)\n",
    "print(algo)\n",
    "print(confusion_matrix(y_test, y_pred), '\\n\\n')\n",
    "acc = accuracy_score(y_test, y_pred) * 100\n",
    "print('Accuracy:', acc)\n",
    "rec = recall_score(y_test, y_pred) * 100\n",
    "print('Recall:', rec)\n",
    "pre = precision_score(y_test, y_pred) * 100\n",
    "print('Precision:', pre)\n",
    "f1s = f1_score(y_test, y_pred) * 100\n",
    "print('F score:', f1s)\n",
    "tn, fp, fn, tp = confusion_matrix(y_test, y_pred).ravel()\n",
    "spc = tn / (tn+fp)\n",
    "print('Specificity:', spc)\n",
    "\n",
    "algos.append(algo)\n",
    "accuracy.append(acc)\n",
    "recall.append(rec)\n",
    "precision.append(pre)\n",
    "f1Score.append(f1s)\n",
    "specificity.append(spc)"
   ]
  },
  {
   "cell_type": "code",
   "execution_count": 17,
   "id": "19c14d38",
   "metadata": {},
   "outputs": [
    {
     "name": "stdout",
     "output_type": "stream",
     "text": [
      "Logistic Regression :      56.25 ,   0.0 ,   0.0 ,   0.0\n",
      "K Nearest Neighbour :      73.75 ,   62.857142857142854 ,   73.33333333333333 ,   67.69230769230768\n",
      "Decision Tree :      85.0 ,   77.14285714285715 ,   87.09677419354838 ,   81.81818181818183\n",
      "Naive Bayes :      80.0 ,   62.857142857142854 ,   88.0 ,   73.33333333333334\n",
      "SVM :      70.0 ,   37.142857142857146 ,   86.66666666666667 ,   52.0\n",
      "Adaboost :      82.5 ,   74.28571428571429 ,   83.87096774193549 ,   78.7878787878788\n",
      "GradientBoost :      85.0 ,   80.0 ,   84.84848484848484 ,   82.3529411764706\n",
      "Random forest :      86.25 ,   82.85714285714286 ,   85.29411764705883 ,   84.05797101449276\n"
     ]
    }
   ],
   "source": [
    "mx = 0\n",
    "for i in range(len(algos)):\n",
    "    print(algos[i], ':     ', accuracy[i],',  ', recall[i],',  ', precision[i],',  ', f1Score[i])\n",
    "    if accuracy[i] > accuracy[mx]:\n",
    "        mx = i"
   ]
  },
  {
   "cell_type": "code",
   "execution_count": 18,
   "id": "97d32b70",
   "metadata": {},
   "outputs": [
    {
     "name": "stdout",
     "output_type": "stream",
     "text": [
      "Maximum Accuracy :  86.25 of Random forest algorithm.\n"
     ]
    }
   ],
   "source": [
    "print('Maximum Accuracy : ', accuracy[i], 'of', algos[i], 'algorithm.')"
   ]
  },
  {
   "cell_type": "code",
   "execution_count": 19,
   "id": "759607de",
   "metadata": {},
   "outputs": [
    {
     "data": {
      "image/png": "[encoded data removed]",
      "text/plain": [
       "<Figure size 432x288 with 1 Axes>"
      ]
     },
     "metadata": {
      "needs_background": "light"
     },
     "output_type": "display_data"
    }
   ],
   "source": [
    "plt.bar(algos, accuracy)\n",
    "plt.xticks(rotation = 45) \n",
    "plt.show()"
   ]
  }
 ],
 "metadata": {
  "kernelspec": {
   "display_name": "Python 3 (ipykernel)",
   "language": "python",
   "name": "python3"
  },
  "language_info": {
   "codemirror_mode": {
    "name": "ipython",
    "version": 3
   },
   "file_extension": ".py",
   "mimetype": "text/x-python",
   "name": "python",
   "nbconvert_exporter": "python",
   "pygments_lexer": "ipython3",
   "version": "3.7.11"
  }
 },
 "nbformat": 4,
 "nbformat_minor": 5
}
