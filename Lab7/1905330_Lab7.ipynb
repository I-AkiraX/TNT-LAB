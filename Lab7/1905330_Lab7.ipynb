{
 "cells": [
  {
   "cell_type": "markdown",
   "id": "d8f384d7",
   "metadata": {},
   "source": [
    "1: Create Lists ,Tuples, Dictionaries and Sets. Print elements stored in each case."
   ]
  },
  {
   "cell_type": "code",
   "execution_count": 1,
   "id": "ffa7e7db",
   "metadata": {
    "scrolled": true
   },
   "outputs": [
    {
     "name": "stdout",
     "output_type": "stream",
     "text": [
      "1, 2, 3, \n",
      "1, 2, 3, \n",
      "1 : a, 2 : b, 3 : c, \n",
      "1, 2, 3, \n"
     ]
    }
   ],
   "source": [
    "li = [1, 2, 3]\n",
    "tu = (1, 2, 3)\n",
    "di = {1: 'a', 2: 'b', 3: 'c'}\n",
    "se = {1, 2, 3, 1, 3}\n",
    "\n",
    "for ele in li:\n",
    "    print(ele, end=', ')\n",
    "print()\n",
    "\n",
    "for ele in tu:\n",
    "    print(ele, end=', ')\n",
    "print()\n",
    "for key in di:\n",
    "    print(key, ':', di[key], end=', ')\n",
    "print()\n",
    "for ele in se:\n",
    "    print(ele, end=', ')\n",
    "print()"
   ]
  },
  {
   "cell_type": "markdown",
   "id": "a623c10b",
   "metadata": {},
   "source": [
    "2: i) Select the Element kept at 2nd position. From a List and display it.\n",
    "ii) create numpy array by already existing list and display its datatype and\n",
    "dimension."
   ]
  },
  {
   "cell_type": "code",
   "execution_count": 2,
   "id": "6a95ff4f",
   "metadata": {},
   "outputs": [
    {
     "name": "stdout",
     "output_type": "stream",
     "text": [
      "2\n",
      "\n",
      "int32\n",
      "1\n",
      "(3,)\n"
     ]
    }
   ],
   "source": [
    "li = [1, 2, 3]\n",
    "pos = 2\n",
    "print(li[pos-1])\n",
    "print()\n",
    "\n",
    "import numpy as np\n",
    "nli = np.array(li)\n",
    "print(nli.dtype)\n",
    "print(nli.ndim)\n",
    "print(nli.shape)"
   ]
  },
  {
   "cell_type": "markdown",
   "id": "e2e2829f",
   "metadata": {},
   "source": [
    "3: Use range function to generate values with name RangeVar. Keep\n",
    "lower bound as 1, higher bound 50. and each value should have\n",
    "difference of 10."
   ]
  },
  {
   "cell_type": "code",
   "execution_count": 3,
   "id": "f39e98b0",
   "metadata": {},
   "outputs": [
    {
     "name": "stdout",
     "output_type": "stream",
     "text": [
      "[1, 11, 21, 31, 41]\n"
     ]
    }
   ],
   "source": [
    "RangeVar = list(range(1, 50+1, 10))\n",
    "print(RangeVar)"
   ]
  },
  {
   "cell_type": "markdown",
   "id": "e63774fc",
   "metadata": {},
   "source": [
    "4: Create a string ‘Techniquelab’. Find out the character at 5 th position.\n",
    "Find out the index of ‘l’ in the string."
   ]
  },
  {
   "cell_type": "code",
   "execution_count": 4,
   "id": "bde24be9",
   "metadata": {},
   "outputs": [
    {
     "name": "stdout",
     "output_type": "stream",
     "text": [
      "n\n",
      "9\n"
     ]
    }
   ],
   "source": [
    "s = 'Techniquelab'\n",
    "pos = 5\n",
    "print(s[pos-1])\n",
    "print(s.index('l'))"
   ]
  },
  {
   "cell_type": "markdown",
   "id": "6a2941e8",
   "metadata": {},
   "source": [
    "5: In 3rd question, the values populted in RangeVar.Find out if 11 exists\n",
    "and also find out the value at 3rd index."
   ]
  },
  {
   "cell_type": "code",
   "execution_count": 5,
   "id": "113e9bb4",
   "metadata": {},
   "outputs": [
    {
     "name": "stdout",
     "output_type": "stream",
     "text": [
      "True\n",
      "31\n"
     ]
    }
   ],
   "source": [
    "RangeVar = list(range(1, 50+1, 10))\n",
    "print(11 in RangeVar)\n",
    "idx = 3\n",
    "print(RangeVar[idx])"
   ]
  },
  {
   "cell_type": "markdown",
   "id": "4620febb",
   "metadata": {},
   "source": [
    "6: Create a list with values 100, ‘Alice’, 12 and ‘Programmer’.Display the\n",
    "whole list.Then add value ‘Python’ to the list and display the modified\n",
    "list."
   ]
  },
  {
   "cell_type": "code",
   "execution_count": 6,
   "id": "d2e7e58e",
   "metadata": {},
   "outputs": [
    {
     "name": "stdout",
     "output_type": "stream",
     "text": [
      "[100, 'Alice', 12, 'Programmer']\n",
      "[100, 'Alice', 12, 'Programmer', 'Python']\n"
     ]
    }
   ],
   "source": [
    "li = [100, 'Alice', 12, 'Programmer']\n",
    "print(li)\n",
    "li.append('Python')\n",
    "print(li)"
   ]
  },
  {
   "cell_type": "markdown",
   "id": "b2145c31",
   "metadata": {},
   "source": [
    "7: Create a tuple with values:100, ‘Alice’, 12 and ‘Programmer’.Display\n",
    "the tuple.Then add values ‘Python’ and ‘ML’ to it and display the\n",
    "modified tuple."
   ]
  },
  {
   "cell_type": "code",
   "execution_count": 7,
   "id": "c25170e0",
   "metadata": {},
   "outputs": [
    {
     "name": "stdout",
     "output_type": "stream",
     "text": [
      "(100, 'Alice', 12, 'Programmer')\n",
      "(100, 'Alice', 12, 'Programmer', 'Python', 'ML')\n"
     ]
    }
   ],
   "source": [
    "tu = (100, 'Alice', 12, 'Programmer')\n",
    "print(tu)\n",
    "tu = tuple(list(tu) + ['Python', 'ML'])\n",
    "print(tu)"
   ]
  },
  {
   "cell_type": "markdown",
   "id": "931a28b8",
   "metadata": {},
   "source": [
    "8: In the tuple with values :100, ‘Alice’, 12 and ‘Programmer’,print the\n",
    "values from index 0 to 2 ,getting displayed on console thrice."
   ]
  },
  {
   "cell_type": "code",
   "execution_count": 8,
   "id": "f1ddd264",
   "metadata": {},
   "outputs": [
    {
     "name": "stdout",
     "output_type": "stream",
     "text": [
      "100, Alice, 12, \n",
      "100, Alice, 12, \n",
      "100, Alice, 12, \n"
     ]
    }
   ],
   "source": [
    "tu = (100, 'Alice', 12, 'Programmer')\n",
    "for i in range(3):\n",
    "    for j in range(3):\n",
    "        print(tu[j], end=', ')\n",
    "    print()"
   ]
  }
 ],
 "metadata": {
  "kernelspec": {
   "display_name": "Python 3 (ipykernel)",
   "language": "python",
   "name": "python3"
  },
  "language_info": {
   "codemirror_mode": {
    "name": "ipython",
    "version": 3
   },
   "file_extension": ".py",
   "mimetype": "text/x-python",
   "name": "python",
   "nbconvert_exporter": "python",
   "pygments_lexer": "ipython3",
   "version": "3.7.11"
  }
 },
 "nbformat": 4,
 "nbformat_minor": 5
}
